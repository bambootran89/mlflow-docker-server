{
 "cells": [
  {
   "cell_type": "code",
   "execution_count": 1,
   "id": "6f59f711-d754-4e6a-8ab7-078804fff3c1",
   "metadata": {},
   "outputs": [
    {
     "name": "stderr",
     "output_type": "stream",
     "text": [
      "/home/jovyan/.local/lib/python3.9/site-packages/pandas/core/computation/expressions.py:21: UserWarning: Pandas requires version '2.8.4' or newer of 'numexpr' (version '2.8.0' currently installed).\n",
      "  from pandas.core.computation.check import NUMEXPR_INSTALLED\n",
      "/home/jovyan/.local/lib/python3.9/site-packages/pandas/core/arrays/masked.py:60: UserWarning: Pandas requires version '1.3.6' or newer of 'bottleneck' (version '1.3.4' currently installed).\n",
      "  from pandas.core import (\n"
     ]
    }
   ],
   "source": [
    "import mlflow"
   ]
  },
  {
   "cell_type": "code",
   "execution_count": 3,
   "id": "65e738a0-7470-4301-b8c1-01a43a2a9ff0",
   "metadata": {},
   "outputs": [],
   "source": [
    "import os\n",
    "os.environ['MLFLOW_TRACKING_USERNAME'] = \"cuong\"\n",
    "os.environ['MLFLOW_TRACKING_PASSWORD'] = \"ds@cuong1\""
   ]
  },
  {
   "cell_type": "code",
   "execution_count": 4,
   "id": "3fcd341e-2a5c-4468-801d-6d279ece205e",
   "metadata": {},
   "outputs": [
    {
     "name": "stderr",
     "output_type": "stream",
     "text": [
      "2024/08/12 15:13:49 INFO mlflow.tracking._tracking_service.client: 🏃 View run clean-dog-618 at: http://localhost:5005/#/experiments/1/runs/f92e24dfe3a34f1c8c0c367cef6ff1fc.\n",
      "2024/08/12 15:13:49 INFO mlflow.tracking._tracking_service.client: 🧪 View experiment at: http://localhost:5005/#/experiments/1.\n"
     ]
    }
   ],
   "source": [
    "remote_server_uri = \"http://localhost:5005\"  # set to your server URI\n",
    "mlflow.set_tracking_uri(remote_server_uri)\n",
    "mlflow.set_experiment(\"experiment\")\n",
    "\n",
    "with mlflow.start_run():\n",
    "    mlflow.log_param(\"a\", 1)\n",
    "    mlflow.log_metric(\"b\", 2)"
   ]
  },
  {
   "cell_type": "code",
   "execution_count": null,
   "id": "affbf526-3e6d-4236-b3cd-25b4c192135c",
   "metadata": {},
   "outputs": [],
   "source": []
  }
 ],
 "metadata": {
  "kernelspec": {
   "display_name": "Python 3 (ipykernel)",
   "language": "python",
   "name": "python3"
  },
  "language_info": {
   "codemirror_mode": {
    "name": "ipython",
    "version": 3
   },
   "file_extension": ".py",
   "mimetype": "text/x-python",
   "name": "python",
   "nbconvert_exporter": "python",
   "pygments_lexer": "ipython3",
   "version": "3.9.13"
  }
 },
 "nbformat": 4,
 "nbformat_minor": 5
}
