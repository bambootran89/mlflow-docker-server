{
 "cells": [
  {
   "cell_type": "code",
   "execution_count": null,
   "id": "0361865f-a204-4d8e-a76b-fe14e31be9fa",
   "metadata": {},
   "outputs": [],
   "source": [
    "import os\n",
    "os.environ['MLFLOW_TRACKING_USERNAME'] = \"mlflowadmin\"\n",
    "os.environ['MLFLOW_TRACKING_PASSWORD'] = \"mlflowadmin\""
   ]
  },
  {
   "cell_type": "code",
   "execution_count": 2,
   "id": "98ff4cc6-66eb-47b6-bcd5-a1950e61e817",
   "metadata": {},
   "outputs": [],
   "source": [
    "import mlflow\n",
    "from mlflow import MlflowClient\n",
    "from mlflow.server import get_app_client\n"
   ]
  },
  {
   "cell_type": "code",
   "execution_count": 3,
   "id": "2f3c6eec-5136-4a2b-a891-4ab37ad5d878",
   "metadata": {},
   "outputs": [],
   "source": [
    "tracking_uri = \"http://localhost:5005/\"\n",
    "auth_client = get_app_client(\"basic-auth\", tracking_uri=tracking_uri)\n",
    "client = MlflowClient(tracking_uri=tracking_uri)"
   ]
  },
  {
   "cell_type": "code",
   "execution_count": null,
   "id": "3a195635-94fc-444e-821d-75e5ee93a4dd",
   "metadata": {},
   "outputs": [],
   "source": []
  },
  {
   "cell_type": "code",
   "execution_count": 4,
   "id": "b31d9481-1e9d-4659-b0f8-a3ef8a89ac29",
   "metadata": {},
   "outputs": [
    {
     "data": {
      "text/plain": [
       "<mlflow.server.auth.entities.ExperimentPermission at 0x7f5d72c7e850>"
      ]
     },
     "execution_count": 4,
     "metadata": {},
     "output_type": "execute_result"
    }
   ],
   "source": [
    "experiment_id = client.create_experiment(name=\"experiment winequality rayml\")\n",
    "\n",
    "auth_client.create_experiment_permission(\n",
    "    experiment_id=experiment_id, username=\"cuong\", permission=\"MANAGE\"\n",
    ")"
   ]
  },
  {
   "cell_type": "code",
   "execution_count": null,
   "id": "5fda48a3-9077-419c-b18a-7d5e7e32daec",
   "metadata": {},
   "outputs": [],
   "source": [
    "auth_client.create_user(username=\"cuong\", password=\"ds@cuong1\")"
   ]
  },
  {
   "cell_type": "code",
   "execution_count": 5,
   "id": "e83a0449-c215-4f87-a079-582c8f938b5f",
   "metadata": {},
   "outputs": [
    {
     "data": {
      "text/plain": [
       "<mlflow.server.auth.entities.ExperimentPermission at 0x7f27547ac7f0>"
      ]
     },
     "execution_count": 5,
     "metadata": {},
     "output_type": "execute_result"
    }
   ],
   "source": [
    "from mlflow import MlflowClient\n",
    "from mlflow.server import get_app_client\n",
    "\n",
    "tracking_uri = \"http://localhost:5005/\"\n",
    "\n",
    "auth_client = get_app_client(\"basic-auth\", tracking_uri=tracking_uri)\n",
    "auth_client.create_user(username=\"cuong\", password=\"ds@cuong1\")\n",
    "\n",
    "client = MlflowClient(tracking_uri=tracking_uri)\n",
    "experiment_id = client.create_experiment(name=\"experiment\")\n",
    "\n",
    "auth_client.create_experiment_permission(\n",
    "    experiment_id=experiment_id, username=\"cuong\", permission=\"MANAGE\"\n",
    ")"
   ]
  },
  {
   "cell_type": "code",
   "execution_count": 6,
   "id": "e10cdc0c-af95-4a5e-ae82-96253b4ec8ea",
   "metadata": {},
   "outputs": [
    {
     "data": {
      "text/plain": [
       "<mlflow.server.auth.entities.ExperimentPermission at 0x7f27547a1430>"
      ]
     },
     "execution_count": 6,
     "metadata": {},
     "output_type": "execute_result"
    }
   ],
   "source": [
    "client = MlflowClient(tracking_uri=tracking_uri)\n",
    "experiment_id = client.create_experiment(name=\"experiment winequality\")\n",
    "\n",
    "auth_client.create_experiment_permission(\n",
    "    experiment_id=experiment_id, username=\"cuong\", permission=\"MANAGE\"\n",
    ")"
   ]
  },
  {
   "cell_type": "markdown",
   "id": "207f5a3c-8418-49a4-a6df-e26496ac8067",
   "metadata": {},
   "source": [
    "#### step 1: create: lam acc"
   ]
  },
  {
   "cell_type": "code",
   "execution_count": 7,
   "id": "b74acd7c-b546-4d2d-8a06-1085fa5722cd",
   "metadata": {},
   "outputs": [
    {
     "data": {
      "text/plain": [
       "<mlflow.server.auth.entities.User at 0x7f26d11b27f0>"
      ]
     },
     "execution_count": 7,
     "metadata": {},
     "output_type": "execute_result"
    }
   ],
   "source": [
    "auth_client = get_app_client(\"basic-auth\", tracking_uri=tracking_uri)\n",
    "auth_client.create_user(username=\"lam\", password=\"ds@lam1\")\n"
   ]
  },
  {
   "cell_type": "markdown",
   "id": "3f4743a0-e167-4f97-8474-71ed0b2772e7",
   "metadata": {},
   "source": [
    "#### step 2: set lam acc can view project experiment winequality to down model"
   ]
  },
  {
   "cell_type": "code",
   "execution_count": 41,
   "id": "50d8ca4a-bf5c-4f62-bb20-be0db5e4aa8e",
   "metadata": {},
   "outputs": [
    {
     "data": {
      "text/plain": [
       "<mlflow.server.auth.entities.ExperimentPermission at 0x7f26d1f249d0>"
      ]
     },
     "execution_count": 41,
     "metadata": {},
     "output_type": "execute_result"
    }
   ],
   "source": [
    "auth_client.create_experiment_permission(\n",
    "    experiment_id=\"2\", username=\"lam\", permission=\"READ\"\n",
    ")"
   ]
  },
  {
   "cell_type": "code",
   "execution_count": 42,
   "id": "485d72a6-6805-42a1-aada-e86c2a0ff8d5",
   "metadata": {},
   "outputs": [
    {
     "data": {
      "text/plain": [
       "<mlflow.server.auth.entities.ExperimentPermission at 0x7f26d1e9c7c0>"
      ]
     },
     "execution_count": 42,
     "metadata": {},
     "output_type": "execute_result"
    }
   ],
   "source": [
    "client = MlflowClient(tracking_uri=tracking_uri)\n",
    "experiment_id = client.create_experiment(name=\"Apples Demand\")\n",
    "\n",
    "auth_client.create_experiment_permission(\n",
    "    experiment_id=experiment_id, username=\"lam\", permission=\"MANAGE\"\n",
    ")"
   ]
  },
  {
   "cell_type": "code",
   "execution_count": 43,
   "id": "96421565-6e3c-4b9b-8d14-c61bee87d39b",
   "metadata": {},
   "outputs": [
    {
     "data": {
      "text/plain": [
       "<mlflow.server.auth.entities.ExperimentPermission at 0x7f26cf113430>"
      ]
     },
     "execution_count": 43,
     "metadata": {},
     "output_type": "execute_result"
    }
   ],
   "source": [
    "client = MlflowClient(tracking_uri=tracking_uri)\n",
    "experiment_id = client.create_experiment(name=\"No Child Runs\")\n",
    "\n",
    "auth_client.create_experiment_permission(\n",
    "    experiment_id=experiment_id, username=\"lam\", permission=\"MANAGE\"\n",
    ")"
   ]
  },
  {
   "cell_type": "code",
   "execution_count": 44,
   "id": "44c542d9-4e7b-4c8c-9992-6010b1d7f94e",
   "metadata": {},
   "outputs": [
    {
     "data": {
      "text/plain": [
       "<mlflow.server.auth.entities.ExperimentPermission at 0x7f26d1f07df0>"
      ]
     },
     "execution_count": 44,
     "metadata": {},
     "output_type": "execute_result"
    }
   ],
   "source": [
    "\n",
    "client = MlflowClient(tracking_uri=tracking_uri)\n",
    "experiment_id = client.create_experiment(name=\"Visualizations Demo\")\n",
    "\n",
    "auth_client.create_experiment_permission(\n",
    "    experiment_id=experiment_id, username=\"lam\", permission=\"MANAGE\"\n",
    ")"
   ]
  },
  {
   "cell_type": "code",
   "execution_count": 45,
   "id": "90273dd5-4dc4-4b11-8fbf-370e7f26c071",
   "metadata": {},
   "outputs": [
    {
     "data": {
      "text/plain": [
       "<mlflow.server.auth.entities.ExperimentPermission at 0x7f26cf143d90>"
      ]
     },
     "execution_count": 45,
     "metadata": {},
     "output_type": "execute_result"
    }
   ],
   "source": [
    "client = MlflowClient(tracking_uri=tracking_uri)\n",
    "experiment_id = client.create_experiment(name=\"Overriding Predict Tutorial\")\n",
    "\n",
    "auth_client.create_experiment_permission(\n",
    "    experiment_id=experiment_id, username=\"cuong\", permission=\"MANAGE\"\n",
    ")"
   ]
  },
  {
   "cell_type": "code",
   "execution_count": null,
   "id": "b880cba9-67b9-4442-bf68-4ca345d77e3c",
   "metadata": {},
   "outputs": [],
   "source": []
  }
 ],
 "metadata": {
  "kernelspec": {
   "display_name": "Python 3 (ipykernel)",
   "language": "python",
   "name": "python3"
  },
  "language_info": {
   "codemirror_mode": {
    "name": "ipython",
    "version": 3
   },
   "file_extension": ".py",
   "mimetype": "text/x-python",
   "name": "python",
   "nbconvert_exporter": "python",
   "pygments_lexer": "ipython3",
   "version": "3.9.19"
  }
 },
 "nbformat": 4,
 "nbformat_minor": 5
}
